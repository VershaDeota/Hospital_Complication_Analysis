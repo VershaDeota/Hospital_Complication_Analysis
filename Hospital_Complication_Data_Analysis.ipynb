{
 "cells": [
  {
   "cell_type": "markdown",
   "metadata": {},
   "source": [
    "# Hospital_Complication_Data_Analysis"
   ]
  },
  {
   "cell_type": "markdown",
   "metadata": {},
   "source": [
    "## Abstract:\n",
    "\n",
    "The goal of this project is to use the dataset of **complications in U.S. hospitals**\n",
    "\n",
    "Each observation represents the number of complications and the 30-day death rate for a specific complication in a specific hospital."
   ]
  },
  {
   "cell_type": "markdown",
   "metadata": {
    "ExecuteTime": {
     "end_time": "2018-02-09T02:47:21.154845Z",
     "start_time": "2018-02-09T02:47:21.148053Z"
    }
   },
   "source": [
    "## Overview"
   ]
  },
  {
   "cell_type": "code",
   "execution_count": 1,
   "metadata": {},
   "outputs": [],
   "source": [
    "import numpy as np\n",
    "import pandas as pd\n",
    "pd.options.display.float_format = '{:.4f}'.format"
   ]
  },
  {
   "cell_type": "code",
   "execution_count": 2,
   "metadata": {
    "ExecuteTime": {
     "end_time": "2018-02-09T02:32:57.453215Z",
     "start_time": "2018-02-09T02:32:57.208930Z"
    }
   },
   "outputs": [],
   "source": [
    "%matplotlib inline"
   ]
  },
  {
   "cell_type": "code",
   "execution_count": 3,
   "metadata": {
    "ExecuteTime": {
     "end_time": "2018-02-09T02:32:57.827511Z",
     "start_time": "2018-02-09T02:32:57.819390Z"
    }
   },
   "outputs": [],
   "source": [
    "from IPython.core.interactiveshell import InteractiveShell\n",
    "InteractiveShell.ast_node_interactivity = \"all\""
   ]
  },
  {
   "cell_type": "markdown",
   "metadata": {},
   "source": [
    "#### Reading the complication dataset"
   ]
  },
  {
   "cell_type": "code",
   "execution_count": 4,
   "metadata": {
    "ExecuteTime": {
     "end_time": "2018-02-09T02:32:59.474851Z",
     "start_time": "2018-02-09T02:32:58.389018Z"
    }
   },
   "outputs": [],
   "source": [
    "cd = pd.read_csv('complications.csv', dtype=str).rename(columns=lambda x: x.strip())"
   ]
  },
  {
   "cell_type": "markdown",
   "metadata": {},
   "source": [
    "#### The columns are as follows:"
   ]
  },
  {
   "cell_type": "code",
   "execution_count": 5,
   "metadata": {
    "ExecuteTime": {
     "end_time": "2018-02-09T02:33:02.568935Z",
     "start_time": "2018-02-09T02:33:02.556557Z"
    }
   },
   "outputs": [
    {
     "data": {
      "text/plain": [
       "Index(['Provider ID', 'Hospital Name', 'Address', 'City', 'ZIP Code',\n",
       "       'County Name', 'Phone Number', 'Year', 'Measure ID', 'Measure Name',\n",
       "       'Denominator', 'Score', 'Lower Estimate', 'Higher Estimate'],\n",
       "      dtype='object')"
      ]
     },
     "execution_count": 5,
     "metadata": {},
     "output_type": "execute_result"
    }
   ],
   "source": [
    "cd.columns"
   ]
  },
  {
   "cell_type": "markdown",
   "metadata": {},
   "source": [
    "| Column Name | Description|\n",
    "|-------------|------------|\n",
    "|Provider ID | Unique ID of the hospital |\n",
    "|Hospital Name| Name of the hospital|\n",
    "|Address| Address of the hospital|\n",
    "|City| Name of the city the hospital is in |\n",
    "|ZIP Code | Postal code of the hospital|\n",
    "|County Name | Name of the county the hospital is in|\n",
    "|Phone Number | Phone number of the hospital |\n",
    "|Year | The year in which the complications were recorded|\n",
    "|Measure ID | Code for the complication |\n",
    "|Measure Name | Name of the complication|\n",
    "|Denominator| Number of underlying medical procedures|\n",
    "|Score | Estimate for number of serious complications |\n",
    "|Lower Estimate | Lower boundary of score|\n",
    "|Higher Estimate | Upper boundary of score|"
   ]
  },
  {
   "cell_type": "markdown",
   "metadata": {},
   "source": [
    "#### A quick overview of the dataset:"
   ]
  },
  {
   "cell_type": "code",
   "execution_count": 6,
   "metadata": {
    "ExecuteTime": {
     "end_time": "2018-02-09T02:33:06.354324Z",
     "start_time": "2018-02-09T02:33:05.407259Z"
    }
   },
   "outputs": [
    {
     "data": {
      "text/html": [
       "<div>\n",
       "<style scoped>\n",
       "    .dataframe tbody tr th:only-of-type {\n",
       "        vertical-align: middle;\n",
       "    }\n",
       "\n",
       "    .dataframe tbody tr th {\n",
       "        vertical-align: top;\n",
       "    }\n",
       "\n",
       "    .dataframe thead th {\n",
       "        text-align: right;\n",
       "    }\n",
       "</style>\n",
       "<table border=\"1\" class=\"dataframe\">\n",
       "  <thead>\n",
       "    <tr style=\"text-align: right;\">\n",
       "      <th></th>\n",
       "      <th>Provider ID</th>\n",
       "      <th>Hospital Name</th>\n",
       "      <th>Address</th>\n",
       "      <th>City</th>\n",
       "      <th>ZIP Code</th>\n",
       "      <th>County Name</th>\n",
       "      <th>Phone Number</th>\n",
       "      <th>Year</th>\n",
       "      <th>Measure ID</th>\n",
       "      <th>Measure Name</th>\n",
       "      <th>Denominator</th>\n",
       "      <th>Score</th>\n",
       "      <th>Lower Estimate</th>\n",
       "      <th>Higher Estimate</th>\n",
       "    </tr>\n",
       "  </thead>\n",
       "  <tbody>\n",
       "    <tr>\n",
       "      <th>count</th>\n",
       "      <td>272788</td>\n",
       "      <td>272788</td>\n",
       "      <td>272788</td>\n",
       "      <td>272788</td>\n",
       "      <td>272788</td>\n",
       "      <td>272626</td>\n",
       "      <td>272788</td>\n",
       "      <td>272788</td>\n",
       "      <td>272788</td>\n",
       "      <td>272788</td>\n",
       "      <td>272788</td>\n",
       "      <td>272788</td>\n",
       "      <td>272788</td>\n",
       "      <td>272788</td>\n",
       "    </tr>\n",
       "    <tr>\n",
       "      <th>unique</th>\n",
       "      <td>4746</td>\n",
       "      <td>5119</td>\n",
       "      <td>4915</td>\n",
       "      <td>2874</td>\n",
       "      <td>4368</td>\n",
       "      <td>1526</td>\n",
       "      <td>5028</td>\n",
       "      <td>6</td>\n",
       "      <td>26</td>\n",
       "      <td>26</td>\n",
       "      <td>23771</td>\n",
       "      <td>6373</td>\n",
       "      <td>8690</td>\n",
       "      <td>11699</td>\n",
       "    </tr>\n",
       "    <tr>\n",
       "      <th>top</th>\n",
       "      <td>140084</td>\n",
       "      <td>MEMORIAL HOSPITAL</td>\n",
       "      <td>100 HOSPITAL DRIVE</td>\n",
       "      <td>CHICAGO</td>\n",
       "      <td>76104</td>\n",
       "      <td>LOS ANGELES</td>\n",
       "      <td>6104022273</td>\n",
       "      <td>2013</td>\n",
       "      <td>MORT_30_PN</td>\n",
       "      <td>Pneumonia (PN) 30-Day Mortality Rate</td>\n",
       "      <td>26.0</td>\n",
       "      <td>0.06</td>\n",
       "      <td>0.0</td>\n",
       "      <td>0.06</td>\n",
       "    </tr>\n",
       "    <tr>\n",
       "      <th>freq</th>\n",
       "      <td>89</td>\n",
       "      <td>710</td>\n",
       "      <td>378</td>\n",
       "      <td>1957</td>\n",
       "      <td>353</td>\n",
       "      <td>5421</td>\n",
       "      <td>178</td>\n",
       "      <td>58668</td>\n",
       "      <td>24942</td>\n",
       "      <td>24942</td>\n",
       "      <td>1435</td>\n",
       "      <td>2947</td>\n",
       "      <td>23907</td>\n",
       "      <td>2897</td>\n",
       "    </tr>\n",
       "  </tbody>\n",
       "</table>\n",
       "</div>"
      ],
      "text/plain": [
       "       Provider ID      Hospital Name             Address     City ZIP Code  \\\n",
       "count       272788             272788              272788   272788   272788   \n",
       "unique        4746               5119                4915     2874     4368   \n",
       "top         140084  MEMORIAL HOSPITAL  100 HOSPITAL DRIVE  CHICAGO    76104   \n",
       "freq            89                710                 378     1957      353   \n",
       "\n",
       "        County Name Phone Number    Year  Measure ID  \\\n",
       "count        272626       272788  272788      272788   \n",
       "unique         1526         5028       6          26   \n",
       "top     LOS ANGELES   6104022273    2013  MORT_30_PN   \n",
       "freq           5421          178   58668       24942   \n",
       "\n",
       "                                Measure Name Denominator   Score  \\\n",
       "count                                 272788      272788  272788   \n",
       "unique                                    26       23771    6373   \n",
       "top     Pneumonia (PN) 30-Day Mortality Rate        26.0    0.06   \n",
       "freq                                   24942        1435    2947   \n",
       "\n",
       "       Lower Estimate Higher Estimate  \n",
       "count          272788          272788  \n",
       "unique           8690           11699  \n",
       "top               0.0            0.06  \n",
       "freq            23907            2897  "
      ]
     },
     "execution_count": 6,
     "metadata": {},
     "output_type": "execute_result"
    }
   ],
   "source": [
    "cd.describe()"
   ]
  },
  {
   "cell_type": "markdown",
   "metadata": {},
   "source": [
    "#### A sample of the dataset:"
   ]
  },
  {
   "cell_type": "code",
   "execution_count": 7,
   "metadata": {
    "ExecuteTime": {
     "end_time": "2018-02-09T02:33:09.786940Z",
     "start_time": "2018-02-09T02:33:09.725225Z"
    }
   },
   "outputs": [
    {
     "data": {
      "text/html": [
       "<div>\n",
       "<style scoped>\n",
       "    .dataframe tbody tr th:only-of-type {\n",
       "        vertical-align: middle;\n",
       "    }\n",
       "\n",
       "    .dataframe tbody tr th {\n",
       "        vertical-align: top;\n",
       "    }\n",
       "\n",
       "    .dataframe thead th {\n",
       "        text-align: right;\n",
       "    }\n",
       "</style>\n",
       "<table border=\"1\" class=\"dataframe\">\n",
       "  <thead>\n",
       "    <tr style=\"text-align: right;\">\n",
       "      <th></th>\n",
       "      <th>Provider ID</th>\n",
       "      <th>Hospital Name</th>\n",
       "      <th>Address</th>\n",
       "      <th>City</th>\n",
       "      <th>ZIP Code</th>\n",
       "      <th>County Name</th>\n",
       "      <th>Phone Number</th>\n",
       "      <th>Year</th>\n",
       "      <th>Measure ID</th>\n",
       "      <th>Measure Name</th>\n",
       "      <th>Denominator</th>\n",
       "      <th>Score</th>\n",
       "      <th>Lower Estimate</th>\n",
       "      <th>Higher Estimate</th>\n",
       "    </tr>\n",
       "  </thead>\n",
       "  <tbody>\n",
       "    <tr>\n",
       "      <th>22678</th>\n",
       "      <td>050222</td>\n",
       "      <td>SHARP CHULA VISTA MEDICAL CENTER</td>\n",
       "      <td>751 MEDICAL CENTER COURT</td>\n",
       "      <td>CHULA VISTA</td>\n",
       "      <td>91911</td>\n",
       "      <td>SAN DIEGO</td>\n",
       "      <td>6195025800</td>\n",
       "      <td>2016</td>\n",
       "      <td>MORT_30_PN</td>\n",
       "      <td>Pneumonia (PN) 30-Day Mortality Rate</td>\n",
       "      <td>474.0</td>\n",
       "      <td>14.3</td>\n",
       "      <td>12.1</td>\n",
       "      <td>16.8</td>\n",
       "    </tr>\n",
       "    <tr>\n",
       "      <th>22088</th>\n",
       "      <td>050191</td>\n",
       "      <td>ST MARY MEDICAL CENTER</td>\n",
       "      <td>1050 LINDEN AVE</td>\n",
       "      <td>LONG BEACH</td>\n",
       "      <td>90813</td>\n",
       "      <td>LOS ANGELES</td>\n",
       "      <td>5624919000</td>\n",
       "      <td>2012</td>\n",
       "      <td>PSI_14_POSTOP_DEHIS</td>\n",
       "      <td>A wound that splits open  after surgery on the...</td>\n",
       "      <td>102.0</td>\n",
       "      <td>1.78</td>\n",
       "      <td>0.0</td>\n",
       "      <td>3.64</td>\n",
       "    </tr>\n",
       "    <tr>\n",
       "      <th>111295</th>\n",
       "      <td>201309</td>\n",
       "      <td>MAYO REGIONAL HOSPITAL</td>\n",
       "      <td>897 WEST MAIN STREET</td>\n",
       "      <td>DOVER FOXCROFT</td>\n",
       "      <td>04426</td>\n",
       "      <td>PISCATAQUIS</td>\n",
       "      <td>2075644251</td>\n",
       "      <td>2014</td>\n",
       "      <td>MORT_30_STK</td>\n",
       "      <td>Death rate for stroke patients</td>\n",
       "      <td>43.0</td>\n",
       "      <td>14.1</td>\n",
       "      <td>10.2</td>\n",
       "      <td>18.9</td>\n",
       "    </tr>\n",
       "    <tr>\n",
       "      <th>44865</th>\n",
       "      <td>100012</td>\n",
       "      <td>LEE MEMORIAL HOSPITAL</td>\n",
       "      <td>2776 CLEVELAND AVE</td>\n",
       "      <td>FORT MYERS</td>\n",
       "      <td>33901</td>\n",
       "      <td>LEE</td>\n",
       "      <td>2393321111</td>\n",
       "      <td>2012</td>\n",
       "      <td>MORT_30_PN</td>\n",
       "      <td>Pneumonia (PN) 30-Day Mortality Rate</td>\n",
       "      <td>971.0</td>\n",
       "      <td>10.6</td>\n",
       "      <td>8.9</td>\n",
       "      <td>12.5</td>\n",
       "    </tr>\n",
       "    <tr>\n",
       "      <th>208974</th>\n",
       "      <td>390194</td>\n",
       "      <td>BLUE MOUNTAIN HOSPITAL-GNADEN HUETTEN CAMPUS</td>\n",
       "      <td>211 NORTH 12TH STREET</td>\n",
       "      <td>LEHIGHTON</td>\n",
       "      <td>18235</td>\n",
       "      <td>CARBON</td>\n",
       "      <td>6073771300</td>\n",
       "      <td>2016</td>\n",
       "      <td>MORT_30_STK</td>\n",
       "      <td>Death rate for stroke patients</td>\n",
       "      <td>72.0</td>\n",
       "      <td>15.7</td>\n",
       "      <td>11.7</td>\n",
       "      <td>20.8</td>\n",
       "    </tr>\n",
       "  </tbody>\n",
       "</table>\n",
       "</div>"
      ],
      "text/plain": [
       "       Provider ID                                 Hospital Name  \\\n",
       "22678       050222              SHARP CHULA VISTA MEDICAL CENTER   \n",
       "22088       050191                        ST MARY MEDICAL CENTER   \n",
       "111295      201309                        MAYO REGIONAL HOSPITAL   \n",
       "44865       100012                         LEE MEMORIAL HOSPITAL   \n",
       "208974      390194  BLUE MOUNTAIN HOSPITAL-GNADEN HUETTEN CAMPUS   \n",
       "\n",
       "                         Address            City ZIP Code  County Name  \\\n",
       "22678   751 MEDICAL CENTER COURT     CHULA VISTA    91911    SAN DIEGO   \n",
       "22088            1050 LINDEN AVE      LONG BEACH    90813  LOS ANGELES   \n",
       "111295      897 WEST MAIN STREET  DOVER FOXCROFT    04426  PISCATAQUIS   \n",
       "44865         2776 CLEVELAND AVE      FORT MYERS    33901          LEE   \n",
       "208974     211 NORTH 12TH STREET       LEHIGHTON    18235       CARBON   \n",
       "\n",
       "       Phone Number  Year           Measure ID  \\\n",
       "22678    6195025800  2016           MORT_30_PN   \n",
       "22088    5624919000  2012  PSI_14_POSTOP_DEHIS   \n",
       "111295   2075644251  2014          MORT_30_STK   \n",
       "44865    2393321111  2012           MORT_30_PN   \n",
       "208974   6073771300  2016          MORT_30_STK   \n",
       "\n",
       "                                             Measure Name Denominator Score  \\\n",
       "22678                Pneumonia (PN) 30-Day Mortality Rate       474.0  14.3   \n",
       "22088   A wound that splits open  after surgery on the...       102.0  1.78   \n",
       "111295                     Death rate for stroke patients        43.0  14.1   \n",
       "44865                Pneumonia (PN) 30-Day Mortality Rate       971.0  10.6   \n",
       "208974                     Death rate for stroke patients        72.0  15.7   \n",
       "\n",
       "       Lower Estimate Higher Estimate  \n",
       "22678            12.1            16.8  \n",
       "22088             0.0            3.64  \n",
       "111295           10.2            18.9  \n",
       "44865             8.9            12.5  \n",
       "208974           11.7            20.8  "
      ]
     },
     "execution_count": 7,
     "metadata": {},
     "output_type": "execute_result"
    }
   ],
   "source": [
    "cd.sample(5, random_state=1234).head()"
   ]
  },
  {
   "cell_type": "markdown",
   "metadata": {
    "ExecuteTime": {
     "end_time": "2018-02-09T01:16:45.300896Z",
     "start_time": "2018-02-09T01:16:45.295156Z"
    }
   },
   "source": [
    "# Transforming relevant columns"
   ]
  },
  {
   "cell_type": "markdown",
   "metadata": {},
   "source": [
    "All columns in the dataset are of type `str` (to preserve the ZIP code information). For **five** columns, str is the wrong type. \n",
    "\n",
    "Data Type for following columns need to be changed and the reason to change them are-\n",
    "* Year- It can be changed to *int* or *datetime*, as there is not any date time manipulation, I am changing it into int\n",
    "* Denominator- This needs to be changed to *float* as we may need to do arithmatic operation and it has decimal values\n",
    "* Score- This needs to be changed to *float* as we may need to do arithmatic operation and it has decimal values\n",
    "* Lower Estimate- This needs to be changed to *float* as we may need to do arithmatic operation and it has decimal values\n",
    "* Higher Estimate- This needs to be changed to *float* as we may need to do arithmatic operation and it has decimal values\n",
    "\n",
    "In order to do this, I have used **to_numeric()** function\n"
   ]
  },
  {
   "cell_type": "code",
   "execution_count": 8,
   "metadata": {},
   "outputs": [],
   "source": [
    "cd['Year'] = pd.to_numeric(cd['Year'],errors='coerce')\n",
    "cd['Denominator'] = pd.to_numeric(cd['Denominator'],errors='coerce')\n",
    "cd['Score'] = pd.to_numeric(cd['Score'],errors='coerce')\n",
    "cd['Lower Estimate'] = pd.to_numeric(cd['Lower Estimate'],errors='coerce')\n",
    "cd['Higher Estimate'] = pd.to_numeric(cd['Higher Estimate'],errors='coerce')"
   ]
  },
  {
   "cell_type": "markdown",
   "metadata": {
    "ExecuteTime": {
     "end_time": "2018-02-09T01:31:41.847890Z",
     "start_time": "2018-02-09T01:31:41.839019Z"
    }
   },
   "source": [
    "# Creating ratio between the score and the denominator"
   ]
  },
  {
   "cell_type": "markdown",
   "metadata": {
    "ExecuteTime": {
     "end_time": "2018-02-09T01:34:20.308451Z",
     "start_time": "2018-02-09T01:34:20.287272Z"
    }
   },
   "source": [
    "Creating a new column in the dataset that contains the ratio value."
   ]
  },
  {
   "cell_type": "code",
   "execution_count": 9,
   "metadata": {},
   "outputs": [],
   "source": [
    "cd['Ratio']=cd['Score']/cd['Denominator']"
   ]
  },
  {
   "cell_type": "code",
   "execution_count": 10,
   "metadata": {},
   "outputs": [
    {
     "data": {
      "text/html": [
       "<div>\n",
       "<style scoped>\n",
       "    .dataframe tbody tr th:only-of-type {\n",
       "        vertical-align: middle;\n",
       "    }\n",
       "\n",
       "    .dataframe tbody tr th {\n",
       "        vertical-align: top;\n",
       "    }\n",
       "\n",
       "    .dataframe thead th {\n",
       "        text-align: right;\n",
       "    }\n",
       "</style>\n",
       "<table border=\"1\" class=\"dataframe\">\n",
       "  <thead>\n",
       "    <tr style=\"text-align: right;\">\n",
       "      <th></th>\n",
       "      <th>Provider ID</th>\n",
       "      <th>Hospital Name</th>\n",
       "      <th>Address</th>\n",
       "      <th>City</th>\n",
       "      <th>ZIP Code</th>\n",
       "      <th>County Name</th>\n",
       "      <th>Phone Number</th>\n",
       "      <th>Year</th>\n",
       "      <th>Measure ID</th>\n",
       "      <th>Measure Name</th>\n",
       "      <th>Denominator</th>\n",
       "      <th>Score</th>\n",
       "      <th>Lower Estimate</th>\n",
       "      <th>Higher Estimate</th>\n",
       "      <th>Ratio</th>\n",
       "    </tr>\n",
       "  </thead>\n",
       "  <tbody>\n",
       "    <tr>\n",
       "      <th>117984</th>\n",
       "      <td>220101</td>\n",
       "      <td>NEWTON-WELLESLEY HOSPITAL</td>\n",
       "      <td>2014 WASHINGTON STREET</td>\n",
       "      <td>NEWTON</td>\n",
       "      <td>02462</td>\n",
       "      <td>MIDDLESEX</td>\n",
       "      <td>6172436000</td>\n",
       "      <td>2014</td>\n",
       "      <td>MORT_30_PN</td>\n",
       "      <td>Pneumonia (PN) 30-Day Mortality Rate</td>\n",
       "      <td>692.0000</td>\n",
       "      <td>12.0000</td>\n",
       "      <td>10.2000</td>\n",
       "      <td>14.3000</td>\n",
       "      <td>0.0173</td>\n",
       "    </tr>\n",
       "    <tr>\n",
       "      <th>33093</th>\n",
       "      <td>050663</td>\n",
       "      <td>LOS ANGELES COMMUNITY HOSPITAL</td>\n",
       "      <td>4081 E OLYMPIC BLVD</td>\n",
       "      <td>LOS ANGELES</td>\n",
       "      <td>90023</td>\n",
       "      <td>LOS ANGELES</td>\n",
       "      <td>3232670477</td>\n",
       "      <td>2014</td>\n",
       "      <td>PSI_14_POSTOP_DEHIS</td>\n",
       "      <td>A wound that splits open  after surgery on the...</td>\n",
       "      <td>28.0000</td>\n",
       "      <td>1.6500</td>\n",
       "      <td>0.0000</td>\n",
       "      <td>3.5500</td>\n",
       "      <td>0.0589</td>\n",
       "    </tr>\n",
       "  </tbody>\n",
       "</table>\n",
       "</div>"
      ],
      "text/plain": [
       "       Provider ID                   Hospital Name                 Address  \\\n",
       "117984      220101       NEWTON-WELLESLEY HOSPITAL  2014 WASHINGTON STREET   \n",
       "33093       050663  LOS ANGELES COMMUNITY HOSPITAL     4081 E OLYMPIC BLVD   \n",
       "\n",
       "               City ZIP Code  County Name Phone Number  Year  \\\n",
       "117984       NEWTON    02462    MIDDLESEX   6172436000  2014   \n",
       "33093   LOS ANGELES    90023  LOS ANGELES   3232670477  2014   \n",
       "\n",
       "                 Measure ID  \\\n",
       "117984           MORT_30_PN   \n",
       "33093   PSI_14_POSTOP_DEHIS   \n",
       "\n",
       "                                             Measure Name  Denominator  \\\n",
       "117984               Pneumonia (PN) 30-Day Mortality Rate     692.0000   \n",
       "33093   A wound that splits open  after surgery on the...      28.0000   \n",
       "\n",
       "         Score  Lower Estimate  Higher Estimate  Ratio  \n",
       "117984 12.0000         10.2000          14.3000 0.0173  \n",
       "33093   1.6500          0.0000           3.5500 0.0589  "
      ]
     },
     "execution_count": 10,
     "metadata": {},
     "output_type": "execute_result"
    }
   ],
   "source": [
    "cd.sample(2)"
   ]
  },
  {
   "cell_type": "markdown",
   "metadata": {
    "ExecuteTime": {
     "end_time": "2018-02-09T01:33:13.551872Z",
     "start_time": "2018-02-09T01:33:13.546879Z"
    }
   },
   "source": [
    "# Creating an overview of the ratio for deathly complications"
   ]
  },
  {
   "cell_type": "markdown",
   "metadata": {},
   "source": [
    "Following analysis will be done-\n",
    "0. **Identifying 'deathly' complications**\n",
    "1. **Creating the overview**\n",
    "2. **Choosing an appropriate measure to aggregate the data**\n",
    "2. **Sorting with the highest ratio on top**"
   ]
  },
  {
   "cell_type": "markdown",
   "metadata": {},
   "source": [
    "#### Identifying and creating dataframe for  'deathly' complications"
   ]
  },
  {
   "cell_type": "markdown",
   "metadata": {},
   "source": [
    "Deathly complications have been identified based on the description of the Measure Name.Therefore I am filtering the dataset based on the keyword **'Death or Mortality'** in the Measure Name "
   ]
  },
  {
   "cell_type": "code",
   "execution_count": 11,
   "metadata": {},
   "outputs": [],
   "source": [
    "deathly_complications=cd[cd['Measure Name'].str.contains('Death|Mortality')]"
   ]
  },
  {
   "cell_type": "code",
   "execution_count": 12,
   "metadata": {},
   "outputs": [
    {
     "data": {
      "text/html": [
       "<div>\n",
       "<style scoped>\n",
       "    .dataframe tbody tr th:only-of-type {\n",
       "        vertical-align: middle;\n",
       "    }\n",
       "\n",
       "    .dataframe tbody tr th {\n",
       "        vertical-align: top;\n",
       "    }\n",
       "\n",
       "    .dataframe thead th {\n",
       "        text-align: right;\n",
       "    }\n",
       "</style>\n",
       "<table border=\"1\" class=\"dataframe\">\n",
       "  <thead>\n",
       "    <tr style=\"text-align: right;\">\n",
       "      <th></th>\n",
       "      <th>Provider ID</th>\n",
       "      <th>Hospital Name</th>\n",
       "      <th>Address</th>\n",
       "      <th>City</th>\n",
       "      <th>ZIP Code</th>\n",
       "      <th>County Name</th>\n",
       "      <th>Phone Number</th>\n",
       "      <th>Year</th>\n",
       "      <th>Measure ID</th>\n",
       "      <th>Measure Name</th>\n",
       "      <th>Denominator</th>\n",
       "      <th>Score</th>\n",
       "      <th>Lower Estimate</th>\n",
       "      <th>Higher Estimate</th>\n",
       "      <th>Ratio</th>\n",
       "    </tr>\n",
       "  </thead>\n",
       "  <tbody>\n",
       "    <tr>\n",
       "      <th>211364</th>\n",
       "      <td>390290</td>\n",
       "      <td>HAHNEMANN UNIVERSITY HOSPITAL</td>\n",
       "      <td>230 NORTH BROAD STREET</td>\n",
       "      <td>PHILADELPHIA</td>\n",
       "      <td>19102</td>\n",
       "      <td>PHILADELPHIA</td>\n",
       "      <td>2157627000</td>\n",
       "      <td>2016</td>\n",
       "      <td>MORT_30_AMI</td>\n",
       "      <td>Acute Myocardial Infarction (AMI) 30-Day Morta...</td>\n",
       "      <td>88.0000</td>\n",
       "      <td>13.0000</td>\n",
       "      <td>10.1000</td>\n",
       "      <td>16.8000</td>\n",
       "      <td>0.1477</td>\n",
       "    </tr>\n",
       "  </tbody>\n",
       "</table>\n",
       "</div>"
      ],
      "text/plain": [
       "       Provider ID                  Hospital Name                 Address  \\\n",
       "211364      390290  HAHNEMANN UNIVERSITY HOSPITAL  230 NORTH BROAD STREET   \n",
       "\n",
       "                City ZIP Code   County Name Phone Number  Year   Measure ID  \\\n",
       "211364  PHILADELPHIA    19102  PHILADELPHIA   2157627000  2016  MORT_30_AMI   \n",
       "\n",
       "                                             Measure Name  Denominator  \\\n",
       "211364  Acute Myocardial Infarction (AMI) 30-Day Morta...      88.0000   \n",
       "\n",
       "         Score  Lower Estimate  Higher Estimate  Ratio  \n",
       "211364 13.0000         10.1000          16.8000 0.1477  "
      ]
     },
     "execution_count": 12,
     "metadata": {},
     "output_type": "execute_result"
    }
   ],
   "source": [
    "deathly_complications.sample(1)"
   ]
  },
  {
   "cell_type": "markdown",
   "metadata": {},
   "source": [
    "#### Count of each deathly complications in the deathly_complications dataframe"
   ]
  },
  {
   "cell_type": "code",
   "execution_count": 13,
   "metadata": {},
   "outputs": [
    {
     "data": {
      "text/plain": [
       "Measure Name\n",
       "Death rate for CABG                                                          3102\n",
       "Deaths among Patients with Serious Treatable Complications after Surgery     7515\n",
       "Acute Myocardial Infarction (AMI) 30-Day Mortality Rate                     14817\n",
       "Death rate for stroke patients                                              16593\n",
       "Death rate for chronic obstructive pulmonary disease (COPD) patients        21738\n",
       "Heart failure (HF) 30-Day Mortality Rate                                    22275\n",
       "Pneumonia (PN) 30-Day Mortality Rate                                        24942\n",
       "Name: Measure Name, dtype: int64"
      ]
     },
     "execution_count": 13,
     "metadata": {},
     "output_type": "execute_result"
    }
   ],
   "source": [
    "deathly_complications.groupby('Measure Name')['Measure Name'].count().sort_values()"
   ]
  },
  {
   "cell_type": "markdown",
   "metadata": {},
   "source": [
    "We can see the count of each Deathly Complication"
   ]
  },
  {
   "cell_type": "markdown",
   "metadata": {},
   "source": [
    "#### A quick overview of the deathly_complications dataframe:"
   ]
  },
  {
   "cell_type": "code",
   "execution_count": 14,
   "metadata": {},
   "outputs": [
    {
     "data": {
      "text/html": [
       "<div>\n",
       "<style scoped>\n",
       "    .dataframe tbody tr th:only-of-type {\n",
       "        vertical-align: middle;\n",
       "    }\n",
       "\n",
       "    .dataframe tbody tr th {\n",
       "        vertical-align: top;\n",
       "    }\n",
       "\n",
       "    .dataframe thead th {\n",
       "        text-align: right;\n",
       "    }\n",
       "</style>\n",
       "<table border=\"1\" class=\"dataframe\">\n",
       "  <thead>\n",
       "    <tr style=\"text-align: right;\">\n",
       "      <th></th>\n",
       "      <th>Year</th>\n",
       "      <th>Denominator</th>\n",
       "      <th>Score</th>\n",
       "      <th>Lower Estimate</th>\n",
       "      <th>Higher Estimate</th>\n",
       "      <th>Ratio</th>\n",
       "    </tr>\n",
       "  </thead>\n",
       "  <tbody>\n",
       "    <tr>\n",
       "      <th>count</th>\n",
       "      <td>110982.0000</td>\n",
       "      <td>110982.0000</td>\n",
       "      <td>110982.0000</td>\n",
       "      <td>110982.0000</td>\n",
       "      <td>110982.0000</td>\n",
       "      <td>110982.0000</td>\n",
       "    </tr>\n",
       "    <tr>\n",
       "      <th>mean</th>\n",
       "      <td>2013.5030</td>\n",
       "      <td>224.0214</td>\n",
       "      <td>16.5671</td>\n",
       "      <td>14.2877</td>\n",
       "      <td>26.0448</td>\n",
       "      <td>0.1524</td>\n",
       "    </tr>\n",
       "    <tr>\n",
       "      <th>std</th>\n",
       "      <td>1.6742</td>\n",
       "      <td>226.1429</td>\n",
       "      <td>19.3962</td>\n",
       "      <td>19.4632</td>\n",
       "      <td>38.7381</td>\n",
       "      <td>0.1696</td>\n",
       "    </tr>\n",
       "    <tr>\n",
       "      <th>min</th>\n",
       "      <td>2011.0000</td>\n",
       "      <td>25.0000</td>\n",
       "      <td>1.3000</td>\n",
       "      <td>0.7000</td>\n",
       "      <td>2.1000</td>\n",
       "      <td>0.0016</td>\n",
       "    </tr>\n",
       "    <tr>\n",
       "      <th>25%</th>\n",
       "      <td>2012.0000</td>\n",
       "      <td>74.0000</td>\n",
       "      <td>10.0000</td>\n",
       "      <td>7.5000</td>\n",
       "      <td>13.0000</td>\n",
       "      <td>0.0382</td>\n",
       "    </tr>\n",
       "    <tr>\n",
       "      <th>50%</th>\n",
       "      <td>2014.0000</td>\n",
       "      <td>146.8600</td>\n",
       "      <td>12.9000</td>\n",
       "      <td>9.9000</td>\n",
       "      <td>16.6000</td>\n",
       "      <td>0.0841</td>\n",
       "    </tr>\n",
       "    <tr>\n",
       "      <th>75%</th>\n",
       "      <td>2015.0000</td>\n",
       "      <td>295.0000</td>\n",
       "      <td>15.2000</td>\n",
       "      <td>11.8000</td>\n",
       "      <td>19.3000</td>\n",
       "      <td>0.2053</td>\n",
       "    </tr>\n",
       "    <tr>\n",
       "      <th>max</th>\n",
       "      <td>2016.0000</td>\n",
       "      <td>3373.0000</td>\n",
       "      <td>183.4200</td>\n",
       "      <td>172.8050</td>\n",
       "      <td>244.7000</td>\n",
       "      <td>0.9997</td>\n",
       "    </tr>\n",
       "  </tbody>\n",
       "</table>\n",
       "</div>"
      ],
      "text/plain": [
       "             Year  Denominator       Score  Lower Estimate  Higher Estimate  \\\n",
       "count 110982.0000  110982.0000 110982.0000     110982.0000      110982.0000   \n",
       "mean    2013.5030     224.0214     16.5671         14.2877          26.0448   \n",
       "std        1.6742     226.1429     19.3962         19.4632          38.7381   \n",
       "min     2011.0000      25.0000      1.3000          0.7000           2.1000   \n",
       "25%     2012.0000      74.0000     10.0000          7.5000          13.0000   \n",
       "50%     2014.0000     146.8600     12.9000          9.9000          16.6000   \n",
       "75%     2015.0000     295.0000     15.2000         11.8000          19.3000   \n",
       "max     2016.0000    3373.0000    183.4200        172.8050         244.7000   \n",
       "\n",
       "            Ratio  \n",
       "count 110982.0000  \n",
       "mean       0.1524  \n",
       "std        0.1696  \n",
       "min        0.0016  \n",
       "25%        0.0382  \n",
       "50%        0.0841  \n",
       "75%        0.2053  \n",
       "max        0.9997  "
      ]
     },
     "execution_count": 14,
     "metadata": {},
     "output_type": "execute_result"
    }
   ],
   "source": [
    "deathly_complications.describe()"
   ]
  },
  {
   "cell_type": "markdown",
   "metadata": {},
   "source": [
    "#### Aggregating the data by city and sorting with the highest ratio on top"
   ]
  },
  {
   "cell_type": "code",
   "execution_count": 15,
   "metadata": {},
   "outputs": [
    {
     "data": {
      "text/plain": [
       "City\n",
       "GENOA      0.7520\n",
       "MORRISON   0.6885\n",
       "ACKERMAN   0.6346\n",
       "ALTURAS    0.6276\n",
       "ELKADER    0.6240\n",
       "Name: Ratio, dtype: float64"
      ]
     },
     "execution_count": 15,
     "metadata": {},
     "output_type": "execute_result"
    }
   ],
   "source": [
    "deathly_complications.groupby('City')['Ratio'].mean().sort_values(ascending=False).head()"
   ]
  },
  {
   "cell_type": "markdown",
   "metadata": {},
   "source": [
    "we can see the on average deathly complications across cities. Genoa has the highest ratio for deathly complication"
   ]
  },
  {
   "cell_type": "markdown",
   "metadata": {
    "ExecuteTime": {
     "end_time": "2018-02-09T01:37:40.834697Z",
     "start_time": "2018-02-09T01:37:40.831044Z"
    }
   },
   "source": [
    "# Identifying the five safest hospitals"
   ]
  },
  {
   "cell_type": "markdown",
   "metadata": {},
   "source": [
    "Again will work with **'deathly_complication'** dataframe\n",
    "\n",
    "The goal is to provide a **list** of **Five Safe hospitals** \n",
    "\n",
    "Safe hospitals will be those which has on average, the lowest rate of deadly complications.  "
   ]
  },
  {
   "cell_type": "code",
   "execution_count": 16,
   "metadata": {},
   "outputs": [
    {
     "data": {
      "text/plain": [
       "Hospital Name\n",
       "UNIVERITY OF MD BALTO WASHINGTON  MEDICAL CENTER   0.0206\n",
       "NEW YORK-PRESBYTERIAN HOSPITAL                     0.0220\n",
       "NORTON HOSPITALS, INC                              0.0226\n",
       "SAN JUAN VA MEDICAL CENTER                         0.0240\n",
       "FLORIDA HOSPITAL                                   0.0256\n",
       "Name: Ratio, dtype: float64"
      ]
     },
     "execution_count": 16,
     "metadata": {},
     "output_type": "execute_result"
    }
   ],
   "source": [
    "Safe_Hospital=deathly_complications.groupby('Hospital Name')['Ratio'].mean().nsmallest(5)\n",
    "Safe_Hospital"
   ]
  },
  {
   "cell_type": "markdown",
   "metadata": {},
   "source": [
    "#### The list of Five Safest Hospital"
   ]
  },
  {
   "cell_type": "code",
   "execution_count": 17,
   "metadata": {},
   "outputs": [
    {
     "data": {
      "text/plain": [
       "['UNIVERITY OF MD BALTO WASHINGTON  MEDICAL CENTER',\n",
       " 'NEW YORK-PRESBYTERIAN HOSPITAL',\n",
       " 'NORTON HOSPITALS, INC',\n",
       " 'SAN JUAN VA MEDICAL CENTER',\n",
       " 'FLORIDA HOSPITAL']"
      ]
     },
     "execution_count": 17,
     "metadata": {},
     "output_type": "execute_result"
    }
   ],
   "source": [
    "Safe_Hospital=Safe_Hospital.index.tolist()\n",
    "Safe_Hospital"
   ]
  },
  {
   "cell_type": "markdown",
   "metadata": {
    "ExecuteTime": {
     "end_time": "2018-02-09T01:54:20.635175Z",
     "start_time": "2018-02-09T01:54:20.626192Z"
    }
   },
   "source": [
    "# Augmenting the datset with information about the state"
   ]
  },
  {
   "cell_type": "markdown",
   "metadata": {
    "ExecuteTime": {
     "end_time": "2018-02-09T01:55:10.296708Z",
     "start_time": "2018-02-09T01:55:10.285834Z"
    }
   },
   "source": [
    "Reading the file `geo-data.csv` into an object `zip_codes`. **Reading all columns as string.** ([Link](https://github.com/scpike/us-state-county-zip))"
   ]
  },
  {
   "cell_type": "code",
   "execution_count": 18,
   "metadata": {},
   "outputs": [],
   "source": [
    "zip_codes=pd.read_csv(\"geo-data.csv\", dtype=str)"
   ]
  },
  {
   "cell_type": "markdown",
   "metadata": {},
   "source": [
    "This file contains information about the relationship of zip codes, counties, and U.S. states. "
   ]
  },
  {
   "cell_type": "code",
   "execution_count": 19,
   "metadata": {
    "ExecuteTime": {
     "end_time": "2018-02-09T02:35:13.640199Z",
     "start_time": "2018-02-09T02:35:13.627558Z"
    }
   },
   "outputs": [
    {
     "data": {
      "text/plain": [
       "Index(['state_fips', 'state', 'state_abbr', 'zipcode', 'county', 'city'], dtype='object')"
      ]
     },
     "execution_count": 19,
     "metadata": {},
     "output_type": "execute_result"
    }
   ],
   "source": [
    "zip_codes.columns"
   ]
  },
  {
   "cell_type": "markdown",
   "metadata": {},
   "source": [
    "| Column Name | Description|\n",
    "|-------------|------------|\n",
    "|state_fips | FIPS code for the state |\n",
    "|state| Name of the state|\n",
    "|state_abbr| Abbreviation of the state|\n",
    "|zipcode | Postal code|\n",
    "|county | County name|\n",
    "|city | City name  |"
   ]
  },
  {
   "cell_type": "markdown",
   "metadata": {},
   "source": [
    "### Combining the datasets:\n",
    "\n",
    "We will combine the dataset on complications with the dateset on zip codes so that it will have even more details of each observation.\n",
    "\n",
    "In order to do this, I am using **Zip Code** and performing **Inner Join**\n",
    "\n",
    "I have used Zip Code for Joining the datasets, because a county or city can have multiple Zip codes.Therefore granularity wise Zip code is at the lowest level"
   ]
  },
  {
   "cell_type": "code",
   "execution_count": 20,
   "metadata": {},
   "outputs": [
    {
     "data": {
      "text/html": [
       "<div>\n",
       "<style scoped>\n",
       "    .dataframe tbody tr th:only-of-type {\n",
       "        vertical-align: middle;\n",
       "    }\n",
       "\n",
       "    .dataframe tbody tr th {\n",
       "        vertical-align: top;\n",
       "    }\n",
       "\n",
       "    .dataframe thead th {\n",
       "        text-align: right;\n",
       "    }\n",
       "</style>\n",
       "<table border=\"1\" class=\"dataframe\">\n",
       "  <thead>\n",
       "    <tr style=\"text-align: right;\">\n",
       "      <th></th>\n",
       "      <th>Provider ID</th>\n",
       "      <th>Hospital Name</th>\n",
       "      <th>Address</th>\n",
       "      <th>City</th>\n",
       "      <th>ZIP Code</th>\n",
       "      <th>County Name</th>\n",
       "      <th>Phone Number</th>\n",
       "      <th>Year</th>\n",
       "      <th>Measure ID</th>\n",
       "      <th>Measure Name</th>\n",
       "      <th>...</th>\n",
       "      <th>Score</th>\n",
       "      <th>Lower Estimate</th>\n",
       "      <th>Higher Estimate</th>\n",
       "      <th>Ratio</th>\n",
       "      <th>state_fips</th>\n",
       "      <th>state</th>\n",
       "      <th>state_abbr</th>\n",
       "      <th>zipcode</th>\n",
       "      <th>county</th>\n",
       "      <th>city</th>\n",
       "    </tr>\n",
       "  </thead>\n",
       "  <tbody>\n",
       "    <tr>\n",
       "      <th>0</th>\n",
       "      <td>010001</td>\n",
       "      <td>SOUTHEAST ALABAMA MEDICAL CENTER</td>\n",
       "      <td>1108 ROSS CLARK CIRCLE</td>\n",
       "      <td>DOTHAN</td>\n",
       "      <td>36301</td>\n",
       "      <td>HOUSTON</td>\n",
       "      <td>3347938701</td>\n",
       "      <td>2011</td>\n",
       "      <td>COMP_HIP_KNEE</td>\n",
       "      <td>Rate of complications for hip/knee replacement...</td>\n",
       "      <td>...</td>\n",
       "      <td>3.7000</td>\n",
       "      <td>2.5000</td>\n",
       "      <td>5.5000</td>\n",
       "      <td>0.0104</td>\n",
       "      <td>1</td>\n",
       "      <td>Alabama</td>\n",
       "      <td>AL</td>\n",
       "      <td>36301</td>\n",
       "      <td>Houston</td>\n",
       "      <td>Taylor</td>\n",
       "    </tr>\n",
       "    <tr>\n",
       "      <th>1</th>\n",
       "      <td>010001</td>\n",
       "      <td>SOUTHEAST ALABAMA MEDICAL CENTER</td>\n",
       "      <td>1108 ROSS CLARK CIRCLE</td>\n",
       "      <td>DOTHAN</td>\n",
       "      <td>36301</td>\n",
       "      <td>HOUSTON</td>\n",
       "      <td>3347938701</td>\n",
       "      <td>2012</td>\n",
       "      <td>COMP_HIP_KNEE</td>\n",
       "      <td>Rate of complications for hip/knee replacement...</td>\n",
       "      <td>...</td>\n",
       "      <td>3.8000</td>\n",
       "      <td>2.5500</td>\n",
       "      <td>5.6000</td>\n",
       "      <td>0.0110</td>\n",
       "      <td>1</td>\n",
       "      <td>Alabama</td>\n",
       "      <td>AL</td>\n",
       "      <td>36301</td>\n",
       "      <td>Houston</td>\n",
       "      <td>Taylor</td>\n",
       "    </tr>\n",
       "  </tbody>\n",
       "</table>\n",
       "<p>2 rows × 21 columns</p>\n",
       "</div>"
      ],
      "text/plain": [
       "  Provider ID                     Hospital Name                 Address  \\\n",
       "0      010001  SOUTHEAST ALABAMA MEDICAL CENTER  1108 ROSS CLARK CIRCLE   \n",
       "1      010001  SOUTHEAST ALABAMA MEDICAL CENTER  1108 ROSS CLARK CIRCLE   \n",
       "\n",
       "     City ZIP Code County Name Phone Number  Year     Measure ID  \\\n",
       "0  DOTHAN    36301     HOUSTON   3347938701  2011  COMP_HIP_KNEE   \n",
       "1  DOTHAN    36301     HOUSTON   3347938701  2012  COMP_HIP_KNEE   \n",
       "\n",
       "                                        Measure Name   ...    Score  \\\n",
       "0  Rate of complications for hip/knee replacement...   ...   3.7000   \n",
       "1  Rate of complications for hip/knee replacement...   ...   3.8000   \n",
       "\n",
       "   Lower Estimate  Higher Estimate  Ratio  state_fips    state state_abbr  \\\n",
       "0          2.5000           5.5000 0.0104           1  Alabama         AL   \n",
       "1          2.5500           5.6000 0.0110           1  Alabama         AL   \n",
       "\n",
       "  zipcode   county    city  \n",
       "0   36301  Houston  Taylor  \n",
       "1   36301  Houston  Taylor  \n",
       "\n",
       "[2 rows x 21 columns]"
      ]
     },
     "execution_count": 20,
     "metadata": {},
     "output_type": "execute_result"
    }
   ],
   "source": [
    "new_df=pd.merge(cd,zip_codes, how='inner', left_on='ZIP Code', right_on='zipcode')\n",
    "new_df.head(2)"
   ]
  },
  {
   "cell_type": "markdown",
   "metadata": {
    "ExecuteTime": {
     "end_time": "2018-02-09T02:01:36.232035Z",
     "start_time": "2018-02-09T02:01:36.225785Z"
    }
   },
   "source": [
    "# Creating an overview of the complications per U.S. state"
   ]
  },
  {
   "cell_type": "markdown",
   "metadata": {},
   "source": [
    "Following analysis will be done-\n",
    "\n",
    "* Return a sorted list with the overall complication rate per state\n",
    "* Overview of the complication per US state\n",
    "* **Best** ten states and their Visualization"
   ]
  },
  {
   "cell_type": "markdown",
   "metadata": {},
   "source": [
    "#### Return a sorted list with the overall complication rate per state."
   ]
  },
  {
   "cell_type": "markdown",
   "metadata": {},
   "source": [
    "Creating a dataframe having on average complication rate of each state in a sorted form"
   ]
  },
  {
   "cell_type": "code",
   "execution_count": 21,
   "metadata": {},
   "outputs": [],
   "source": [
    "cs=pd.DataFrame(new_df.groupby('state')['Ratio'].mean().sort_values().reset_index())"
   ]
  },
  {
   "cell_type": "markdown",
   "metadata": {},
   "source": [
    "#### A quick overview of the complication per US state"
   ]
  },
  {
   "cell_type": "code",
   "execution_count": 22,
   "metadata": {},
   "outputs": [
    {
     "data": {
      "text/html": [
       "<div>\n",
       "<style scoped>\n",
       "    .dataframe tbody tr th:only-of-type {\n",
       "        vertical-align: middle;\n",
       "    }\n",
       "\n",
       "    .dataframe tbody tr th {\n",
       "        vertical-align: top;\n",
       "    }\n",
       "\n",
       "    .dataframe thead th {\n",
       "        text-align: right;\n",
       "    }\n",
       "</style>\n",
       "<table border=\"1\" class=\"dataframe\">\n",
       "  <thead>\n",
       "    <tr style=\"text-align: right;\">\n",
       "      <th></th>\n",
       "      <th>Ratio</th>\n",
       "    </tr>\n",
       "  </thead>\n",
       "  <tbody>\n",
       "    <tr>\n",
       "      <th>count</th>\n",
       "      <td>44.0000</td>\n",
       "    </tr>\n",
       "    <tr>\n",
       "      <th>mean</th>\n",
       "      <td>0.1190</td>\n",
       "    </tr>\n",
       "    <tr>\n",
       "      <th>std</th>\n",
       "      <td>0.0343</td>\n",
       "    </tr>\n",
       "    <tr>\n",
       "      <th>min</th>\n",
       "      <td>0.0634</td>\n",
       "    </tr>\n",
       "    <tr>\n",
       "      <th>25%</th>\n",
       "      <td>0.0937</td>\n",
       "    </tr>\n",
       "    <tr>\n",
       "      <th>50%</th>\n",
       "      <td>0.1074</td>\n",
       "    </tr>\n",
       "    <tr>\n",
       "      <th>75%</th>\n",
       "      <td>0.1396</td>\n",
       "    </tr>\n",
       "    <tr>\n",
       "      <th>max</th>\n",
       "      <td>0.2101</td>\n",
       "    </tr>\n",
       "  </tbody>\n",
       "</table>\n",
       "</div>"
      ],
      "text/plain": [
       "        Ratio\n",
       "count 44.0000\n",
       "mean   0.1190\n",
       "std    0.0343\n",
       "min    0.0634\n",
       "25%    0.0937\n",
       "50%    0.1074\n",
       "75%    0.1396\n",
       "max    0.2101"
      ]
     },
     "execution_count": 22,
     "metadata": {},
     "output_type": "execute_result"
    }
   ],
   "source": [
    "cs.describe()"
   ]
  },
  {
   "cell_type": "markdown",
   "metadata": {},
   "source": [
    "#### Best ten states"
   ]
  },
  {
   "cell_type": "markdown",
   "metadata": {},
   "source": [
    "The states with the lowest complication will be considered as best state"
   ]
  },
  {
   "cell_type": "code",
   "execution_count": 23,
   "metadata": {},
   "outputs": [
    {
     "data": {
      "text/html": [
       "<div>\n",
       "<style scoped>\n",
       "    .dataframe tbody tr th:only-of-type {\n",
       "        vertical-align: middle;\n",
       "    }\n",
       "\n",
       "    .dataframe tbody tr th {\n",
       "        vertical-align: top;\n",
       "    }\n",
       "\n",
       "    .dataframe thead th {\n",
       "        text-align: right;\n",
       "    }\n",
       "</style>\n",
       "<table border=\"1\" class=\"dataframe\">\n",
       "  <thead>\n",
       "    <tr style=\"text-align: right;\">\n",
       "      <th></th>\n",
       "      <th>state</th>\n",
       "      <th>Ratio</th>\n",
       "    </tr>\n",
       "  </thead>\n",
       "  <tbody>\n",
       "    <tr>\n",
       "      <th>0</th>\n",
       "      <td>Delaware</td>\n",
       "      <td>0.0634</td>\n",
       "    </tr>\n",
       "    <tr>\n",
       "      <th>1</th>\n",
       "      <td>Maryland</td>\n",
       "      <td>0.0685</td>\n",
       "    </tr>\n",
       "    <tr>\n",
       "      <th>2</th>\n",
       "      <td>Florida</td>\n",
       "      <td>0.0756</td>\n",
       "    </tr>\n",
       "    <tr>\n",
       "      <th>3</th>\n",
       "      <td>District of columbia</td>\n",
       "      <td>0.0777</td>\n",
       "    </tr>\n",
       "    <tr>\n",
       "      <th>4</th>\n",
       "      <td>Virginia</td>\n",
       "      <td>0.0796</td>\n",
       "    </tr>\n",
       "    <tr>\n",
       "      <th>5</th>\n",
       "      <td>Pennsylvania</td>\n",
       "      <td>0.0869</td>\n",
       "    </tr>\n",
       "    <tr>\n",
       "      <th>6</th>\n",
       "      <td>New york</td>\n",
       "      <td>0.0881</td>\n",
       "    </tr>\n",
       "    <tr>\n",
       "      <th>7</th>\n",
       "      <td>South carolina</td>\n",
       "      <td>0.0893</td>\n",
       "    </tr>\n",
       "    <tr>\n",
       "      <th>8</th>\n",
       "      <td>North carolina</td>\n",
       "      <td>0.0899</td>\n",
       "    </tr>\n",
       "    <tr>\n",
       "      <th>9</th>\n",
       "      <td>Ohio</td>\n",
       "      <td>0.0918</td>\n",
       "    </tr>\n",
       "  </tbody>\n",
       "</table>\n",
       "</div>"
      ],
      "text/plain": [
       "                  state  Ratio\n",
       "0              Delaware 0.0634\n",
       "1              Maryland 0.0685\n",
       "2               Florida 0.0756\n",
       "3  District of columbia 0.0777\n",
       "4              Virginia 0.0796\n",
       "5          Pennsylvania 0.0869\n",
       "6              New york 0.0881\n",
       "7        South carolina 0.0893\n",
       "8        North carolina 0.0899\n",
       "9                  Ohio 0.0918"
      ]
     },
     "execution_count": 23,
     "metadata": {},
     "output_type": "execute_result"
    }
   ],
   "source": [
    "cs_ten_state=cs.head(10)\n",
    "cs_ten_state"
   ]
  },
  {
   "cell_type": "markdown",
   "metadata": {},
   "source": [
    "The insights can also be seen by the graph presented below"
   ]
  },
  {
   "cell_type": "code",
   "execution_count": 24,
   "metadata": {},
   "outputs": [
    {
     "name": "stdout",
     "output_type": "stream",
     "text": [
      "Populating the interactive namespace from numpy and matplotlib\n"
     ]
    },
    {
     "data": {
      "text/plain": [
       "<matplotlib.axes._subplots.AxesSubplot at 0x116b3e90>"
      ]
     },
     "execution_count": 24,
     "metadata": {},
     "output_type": "execute_result"
    },
    {
     "data": {
      "text/plain": [
       "Text(0.5,1,'Best ten states')"
      ]
     },
     "execution_count": 24,
     "metadata": {},
     "output_type": "execute_result"
    },
    {
     "data": {
      "text/plain": [
       "Text(0,0.5,'Ratio')"
      ]
     },
     "execution_count": 24,
     "metadata": {},
     "output_type": "execute_result"
    },
    {
     "data": {
      "image/png": "[encoded data removed]",
      "text/plain": [
       "<matplotlib.figure.Figure at 0x116cef90>"
      ]
     },
     "metadata": {},
     "output_type": "display_data"
    }
   ],
   "source": [
    "%pylab inline\n",
    "cs_ten_state.plot(x='state',y='Ratio',kind=\"bar\", alpha=0.75, rot=0,  figsize=(15,4))\n",
    "plt.title('Best ten states')\n",
    "plt.ylabel('Ratio')"
   ]
  },
  {
   "cell_type": "markdown",
   "metadata": {},
   "source": [
    "# Creating an overview of the change in complications across U.S. states"
   ]
  },
  {
   "cell_type": "markdown",
   "metadata": {},
   "source": [
    "* Focusing on the deadly complications only.\n",
    "* Calculating the change as follows: \n",
    "**(average rate for last year in dataset - average rate for first year in dataset)/(average rate for first year in dataset)**\n",
    "* Visualizing the change in complication across US states\n",
    "\n",
    "This can be done using the **pct_change** function with appropriate value for window size. The window size is the parameter which is passed to the pct_change function.\n",
    "\n",
    "If the value is positive, then its a percent increase, if negative then its percent decrease"
   ]
  },
  {
   "cell_type": "markdown",
   "metadata": {},
   "source": [
    "#### Combining  Deadly Complication  with the Zip Code dataset"
   ]
  },
  {
   "cell_type": "code",
   "execution_count": 25,
   "metadata": {},
   "outputs": [
    {
     "data": {
      "text/html": [
       "<div>\n",
       "<style scoped>\n",
       "    .dataframe tbody tr th:only-of-type {\n",
       "        vertical-align: middle;\n",
       "    }\n",
       "\n",
       "    .dataframe tbody tr th {\n",
       "        vertical-align: top;\n",
       "    }\n",
       "\n",
       "    .dataframe thead th {\n",
       "        text-align: right;\n",
       "    }\n",
       "</style>\n",
       "<table border=\"1\" class=\"dataframe\">\n",
       "  <thead>\n",
       "    <tr style=\"text-align: right;\">\n",
       "      <th></th>\n",
       "      <th>Provider ID</th>\n",
       "      <th>Hospital Name</th>\n",
       "      <th>Address</th>\n",
       "      <th>City</th>\n",
       "      <th>ZIP Code</th>\n",
       "      <th>County Name</th>\n",
       "      <th>Phone Number</th>\n",
       "      <th>Year</th>\n",
       "      <th>Measure ID</th>\n",
       "      <th>Measure Name</th>\n",
       "      <th>...</th>\n",
       "      <th>Score</th>\n",
       "      <th>Lower Estimate</th>\n",
       "      <th>Higher Estimate</th>\n",
       "      <th>Ratio</th>\n",
       "      <th>state_fips</th>\n",
       "      <th>state</th>\n",
       "      <th>state_abbr</th>\n",
       "      <th>zipcode</th>\n",
       "      <th>county</th>\n",
       "      <th>city</th>\n",
       "    </tr>\n",
       "  </thead>\n",
       "  <tbody>\n",
       "    <tr>\n",
       "      <th>0</th>\n",
       "      <td>010001</td>\n",
       "      <td>SOUTHEAST ALABAMA MEDICAL CENTER</td>\n",
       "      <td>1108 ROSS CLARK CIRCLE</td>\n",
       "      <td>DOTHAN</td>\n",
       "      <td>36301</td>\n",
       "      <td>HOUSTON</td>\n",
       "      <td>3347938701</td>\n",
       "      <td>2011</td>\n",
       "      <td>MORT_30_AMI</td>\n",
       "      <td>Acute Myocardial Infarction (AMI) 30-Day Morta...</td>\n",
       "      <td>...</td>\n",
       "      <td>13.0000</td>\n",
       "      <td>10.9000</td>\n",
       "      <td>15.6000</td>\n",
       "      <td>0.0195</td>\n",
       "      <td>1</td>\n",
       "      <td>Alabama</td>\n",
       "      <td>AL</td>\n",
       "      <td>36301</td>\n",
       "      <td>Houston</td>\n",
       "      <td>Taylor</td>\n",
       "    </tr>\n",
       "  </tbody>\n",
       "</table>\n",
       "<p>1 rows × 21 columns</p>\n",
       "</div>"
      ],
      "text/plain": [
       "  Provider ID                     Hospital Name                 Address  \\\n",
       "0      010001  SOUTHEAST ALABAMA MEDICAL CENTER  1108 ROSS CLARK CIRCLE   \n",
       "\n",
       "     City ZIP Code County Name Phone Number  Year   Measure ID  \\\n",
       "0  DOTHAN    36301     HOUSTON   3347938701  2011  MORT_30_AMI   \n",
       "\n",
       "                                        Measure Name   ...     Score  \\\n",
       "0  Acute Myocardial Infarction (AMI) 30-Day Morta...   ...   13.0000   \n",
       "\n",
       "   Lower Estimate  Higher Estimate  Ratio  state_fips    state state_abbr  \\\n",
       "0         10.9000          15.6000 0.0195           1  Alabama         AL   \n",
       "\n",
       "  zipcode   county    city  \n",
       "0   36301  Houston  Taylor  \n",
       "\n",
       "[1 rows x 21 columns]"
      ]
     },
     "execution_count": 25,
     "metadata": {},
     "output_type": "execute_result"
    }
   ],
   "source": [
    "dc=pd.merge(deathly_complications,zip_codes, how='inner', left_on='ZIP Code', right_on='zipcode')\n",
    "dc.head(1)"
   ]
  },
  {
   "cell_type": "markdown",
   "metadata": {},
   "source": [
    "#### Calculating the window size so that it will work for any dataset"
   ]
  },
  {
   "cell_type": "code",
   "execution_count": 26,
   "metadata": {},
   "outputs": [
    {
     "data": {
      "text/plain": [
       "5"
      ]
     },
     "execution_count": 26,
     "metadata": {},
     "output_type": "execute_result"
    }
   ],
   "source": [
    "pct_window=len(dc['Year'].unique())-1 \n",
    "pct_window"
   ]
  },
  {
   "cell_type": "markdown",
   "metadata": {},
   "source": [
    "*Calculating the window size will help to make the calculation of percent change more dynamic and efficient. So now if we pass this dataset with more years, this entire analysis will be reusable*"
   ]
  },
  {
   "cell_type": "markdown",
   "metadata": {},
   "source": [
    "#### Calculating the Percent change of Ratio across states "
   ]
  },
  {
   "cell_type": "code",
   "execution_count": 27,
   "metadata": {},
   "outputs": [
    {
     "data": {
      "text/html": [
       "<div>\n",
       "<style scoped>\n",
       "    .dataframe tbody tr th:only-of-type {\n",
       "        vertical-align: middle;\n",
       "    }\n",
       "\n",
       "    .dataframe tbody tr th {\n",
       "        vertical-align: top;\n",
       "    }\n",
       "\n",
       "    .dataframe thead th {\n",
       "        text-align: right;\n",
       "    }\n",
       "</style>\n",
       "<table border=\"1\" class=\"dataframe\">\n",
       "  <thead>\n",
       "    <tr style=\"text-align: right;\">\n",
       "      <th></th>\n",
       "      <th>state</th>\n",
       "      <th>Ratio</th>\n",
       "    </tr>\n",
       "  </thead>\n",
       "  <tbody>\n",
       "    <tr>\n",
       "      <th>5</th>\n",
       "      <td>Alabama</td>\n",
       "      <td>-7.3611</td>\n",
       "    </tr>\n",
       "    <tr>\n",
       "      <th>11</th>\n",
       "      <td>Alaska</td>\n",
       "      <td>-9.1222</td>\n",
       "    </tr>\n",
       "    <tr>\n",
       "      <th>17</th>\n",
       "      <td>Arizona</td>\n",
       "      <td>-13.8024</td>\n",
       "    </tr>\n",
       "    <tr>\n",
       "      <th>23</th>\n",
       "      <td>Arkansas</td>\n",
       "      <td>0.7186</td>\n",
       "    </tr>\n",
       "    <tr>\n",
       "      <th>29</th>\n",
       "      <td>California</td>\n",
       "      <td>-0.0623</td>\n",
       "    </tr>\n",
       "  </tbody>\n",
       "</table>\n",
       "</div>"
      ],
      "text/plain": [
       "         state    Ratio\n",
       "5      Alabama  -7.3611\n",
       "11      Alaska  -9.1222\n",
       "17     Arizona -13.8024\n",
       "23    Arkansas   0.7186\n",
       "29  California  -0.0623"
      ]
     },
     "execution_count": 27,
     "metadata": {},
     "output_type": "execute_result"
    }
   ],
   "source": [
    "df=pd.DataFrame((dc.groupby(['state','Year'])['Ratio'].mean()).groupby('state').pct_change(pct_window)*100).reset_index()\n",
    "df=df[df['Ratio'].notnull()]\n",
    "df[['state','Ratio']].head()"
   ]
  },
  {
   "cell_type": "markdown",
   "metadata": {},
   "source": [
    "#### Visualizing the change in Deadly Complication across states"
   ]
  },
  {
   "cell_type": "markdown",
   "metadata": {},
   "source": [
    "The insights can also be seen by the graph presented below"
   ]
  },
  {
   "cell_type": "code",
   "execution_count": 28,
   "metadata": {},
   "outputs": [
    {
     "name": "stdout",
     "output_type": "stream",
     "text": [
      "Populating the interactive namespace from numpy and matplotlib\n"
     ]
    },
    {
     "data": {
      "text/plain": [
       "<matplotlib.axes._subplots.AxesSubplot at 0x11774790>"
      ]
     },
     "execution_count": 28,
     "metadata": {},
     "output_type": "execute_result"
    },
    {
     "data": {
      "text/plain": [
       "Text(0.5,1,'Change in complication acrross US states')"
      ]
     },
     "execution_count": 28,
     "metadata": {},
     "output_type": "execute_result"
    },
    {
     "data": {
      "text/plain": [
       "Text(0,0.5,'Ratio')"
      ]
     },
     "execution_count": 28,
     "metadata": {},
     "output_type": "execute_result"
    },
    {
     "data": {
      "image/png": "[encoded data removed]",
      "text/plain": [
       "<matplotlib.figure.Figure at 0x116ce850>"
      ]
     },
     "metadata": {},
     "output_type": "display_data"
    }
   ],
   "source": [
    "%pylab inline\n",
    "df.plot(x='state',y='Ratio',kind=\"bar\",figsize=(20, 4))\n",
    "plt.title('Change in complication acrross US states')\n",
    "plt.ylabel('Ratio')"
   ]
  },
  {
   "cell_type": "markdown",
   "metadata": {},
   "source": [
    "**The issue with this data is that it does not have state as an index.**\n",
    "**So In order to return state name with the function like nlargest or nsmallest, It needs to be set as an index**"
   ]
  },
  {
   "cell_type": "code",
   "execution_count": 29,
   "metadata": {},
   "outputs": [],
   "source": [
    "df=df.set_index('state')"
   ]
  },
  {
   "cell_type": "markdown",
   "metadata": {},
   "source": [
    "#### State that improved the most"
   ]
  },
  {
   "cell_type": "code",
   "execution_count": 30,
   "metadata": {},
   "outputs": [
    {
     "data": {
      "text/plain": [
       "state\n",
       "Delaware   -18.7448\n",
       "Name: Ratio, dtype: float64"
      ]
     },
     "execution_count": 30,
     "metadata": {},
     "output_type": "execute_result"
    }
   ],
   "source": [
    "df['Ratio'].nsmallest(1)"
   ]
  },
  {
   "cell_type": "markdown",
   "metadata": {},
   "source": [
    "Based on the percent change we can see that the state **Delaware** has the maximum percent decrease. It means the deathly complication for this state has been decreased over years because of the improvement"
   ]
  },
  {
   "cell_type": "markdown",
   "metadata": {},
   "source": [
    "#### State with the worst development"
   ]
  },
  {
   "cell_type": "code",
   "execution_count": 31,
   "metadata": {},
   "outputs": [
    {
     "data": {
      "text/plain": [
       "state\n",
       "Wyoming   10.6098\n",
       "Name: Ratio, dtype: float64"
      ]
     },
     "execution_count": 31,
     "metadata": {},
     "output_type": "execute_result"
    }
   ],
   "source": [
    "df['Ratio'].nlargest(1)"
   ]
  },
  {
   "cell_type": "markdown",
   "metadata": {},
   "source": [
    "Based on the percent change we can see that the state **Wyoming** has the maximum percent increase. It means the deathly complication for this state has been increased over years and it has the worst development compare to other states"
   ]
  },
  {
   "cell_type": "markdown",
   "metadata": {
    "ExecuteTime": {
     "end_time": "2018-02-09T02:30:33.122083Z",
     "start_time": "2018-02-09T02:30:33.116370Z"
    }
   },
   "source": [
    "## Identifying State which has worst development for 'Deaths among Patients with Serious Treatable Complications after Surgery'"
   ]
  },
  {
   "cell_type": "markdown",
   "metadata": {},
   "source": [
    "#### Creating the dataframe for the Measure - 'Deaths among Patients with Serious Treatable Complications after Surgery'"
   ]
  },
  {
   "cell_type": "code",
   "execution_count": 32,
   "metadata": {},
   "outputs": [
    {
     "data": {
      "text/html": [
       "<div>\n",
       "<style scoped>\n",
       "    .dataframe tbody tr th:only-of-type {\n",
       "        vertical-align: middle;\n",
       "    }\n",
       "\n",
       "    .dataframe tbody tr th {\n",
       "        vertical-align: top;\n",
       "    }\n",
       "\n",
       "    .dataframe thead th {\n",
       "        text-align: right;\n",
       "    }\n",
       "</style>\n",
       "<table border=\"1\" class=\"dataframe\">\n",
       "  <thead>\n",
       "    <tr style=\"text-align: right;\">\n",
       "      <th></th>\n",
       "      <th>Provider ID</th>\n",
       "      <th>Hospital Name</th>\n",
       "      <th>Address</th>\n",
       "      <th>City</th>\n",
       "      <th>ZIP Code</th>\n",
       "      <th>County Name</th>\n",
       "      <th>Phone Number</th>\n",
       "      <th>Year</th>\n",
       "      <th>Measure ID</th>\n",
       "      <th>Measure Name</th>\n",
       "      <th>...</th>\n",
       "      <th>Score</th>\n",
       "      <th>Lower Estimate</th>\n",
       "      <th>Higher Estimate</th>\n",
       "      <th>Ratio</th>\n",
       "      <th>state_fips</th>\n",
       "      <th>state</th>\n",
       "      <th>state_abbr</th>\n",
       "      <th>zipcode</th>\n",
       "      <th>county</th>\n",
       "      <th>city</th>\n",
       "    </tr>\n",
       "  </thead>\n",
       "  <tbody>\n",
       "    <tr>\n",
       "      <th>33</th>\n",
       "      <td>010001</td>\n",
       "      <td>SOUTHEAST ALABAMA MEDICAL CENTER</td>\n",
       "      <td>1108 ROSS CLARK CIRCLE</td>\n",
       "      <td>DOTHAN</td>\n",
       "      <td>36301</td>\n",
       "      <td>HOUSTON</td>\n",
       "      <td>3347938701</td>\n",
       "      <td>2012</td>\n",
       "      <td>PSI_4_SURG_COMP</td>\n",
       "      <td>Deaths among Patients with Serious Treatable C...</td>\n",
       "      <td>...</td>\n",
       "      <td>136.1800</td>\n",
       "      <td>101.1800</td>\n",
       "      <td>171.1900</td>\n",
       "      <td>0.7205</td>\n",
       "      <td>1</td>\n",
       "      <td>Alabama</td>\n",
       "      <td>AL</td>\n",
       "      <td>36301</td>\n",
       "      <td>Houston</td>\n",
       "      <td>Taylor</td>\n",
       "    </tr>\n",
       "  </tbody>\n",
       "</table>\n",
       "<p>1 rows × 21 columns</p>\n",
       "</div>"
      ],
      "text/plain": [
       "   Provider ID                     Hospital Name                 Address  \\\n",
       "33      010001  SOUTHEAST ALABAMA MEDICAL CENTER  1108 ROSS CLARK CIRCLE   \n",
       "\n",
       "      City ZIP Code County Name Phone Number  Year       Measure ID  \\\n",
       "33  DOTHAN    36301     HOUSTON   3347938701  2012  PSI_4_SURG_COMP   \n",
       "\n",
       "                                         Measure Name   ...      Score  \\\n",
       "33  Deaths among Patients with Serious Treatable C...   ...   136.1800   \n",
       "\n",
       "    Lower Estimate  Higher Estimate  Ratio  state_fips    state state_abbr  \\\n",
       "33        101.1800         171.1900 0.7205           1  Alabama         AL   \n",
       "\n",
       "   zipcode   county    city  \n",
       "33   36301  Houston  Taylor  \n",
       "\n",
       "[1 rows x 21 columns]"
      ]
     },
     "execution_count": 32,
     "metadata": {},
     "output_type": "execute_result"
    }
   ],
   "source": [
    "dc=dc[dc['Measure Name']=='Deaths among Patients with Serious Treatable Complications after Surgery']\n",
    "dc.head(1)"
   ]
  },
  {
   "cell_type": "markdown",
   "metadata": {},
   "source": [
    "#### Calculating the Window size "
   ]
  },
  {
   "cell_type": "code",
   "execution_count": 33,
   "metadata": {},
   "outputs": [
    {
     "data": {
      "text/plain": [
       "3"
      ]
     },
     "execution_count": 33,
     "metadata": {},
     "output_type": "execute_result"
    }
   ],
   "source": [
    "pct_window=len(dc['Year'].unique())-1 \n",
    "pct_window"
   ]
  },
  {
   "cell_type": "markdown",
   "metadata": {},
   "source": [
    "#### Calculating the Percent change across state of US"
   ]
  },
  {
   "cell_type": "code",
   "execution_count": 34,
   "metadata": {},
   "outputs": [],
   "source": [
    "dx=pd.DataFrame((dc.groupby(['state','Year'])['Ratio'].mean()).groupby('state').pct_change(pct_window)*100).reset_index()\n",
    "dx=dx[dx['Ratio'].notnull()]"
   ]
  },
  {
   "cell_type": "markdown",
   "metadata": {},
   "source": [
    "#### Visualizing the change in complication across state"
   ]
  },
  {
   "cell_type": "code",
   "execution_count": 35,
   "metadata": {},
   "outputs": [
    {
     "name": "stdout",
     "output_type": "stream",
     "text": [
      "Populating the interactive namespace from numpy and matplotlib\n"
     ]
    },
    {
     "data": {
      "text/plain": [
       "<matplotlib.axes._subplots.AxesSubplot at 0x116643d0>"
      ]
     },
     "execution_count": 35,
     "metadata": {},
     "output_type": "execute_result"
    },
    {
     "data": {
      "text/plain": [
       "Text(0.5,1,'Change in complication -\"Deaths among Patients with Serious Treatable Complications after Surgery\" across US states')"
      ]
     },
     "execution_count": 35,
     "metadata": {},
     "output_type": "execute_result"
    },
    {
     "data": {
      "text/plain": [
       "Text(0,0.5,'Ratio')"
      ]
     },
     "execution_count": 35,
     "metadata": {},
     "output_type": "execute_result"
    },
    {
     "data": {
      "image/png": "[encoded data removed]",
      "text/plain": [
       "<matplotlib.figure.Figure at 0x116ce070>"
      ]
     },
     "metadata": {},
     "output_type": "display_data"
    }
   ],
   "source": [
    "%pylab inline\n",
    "dx.plot(x='state',y='Ratio',kind=\"bar\",figsize=(20, 4))\n",
    "plt.title('Change in complication -\"Deaths among Patients with Serious Treatable Complications after Surgery\" across US states')\n",
    "plt.ylabel('Ratio')"
   ]
  },
  {
   "cell_type": "markdown",
   "metadata": {},
   "source": [
    "**The issue with this data is that it does not have state as an index.**\n",
    "**So In order to return state name with the function like nlargest or nsmallest, It needs to be set as an index**"
   ]
  },
  {
   "cell_type": "code",
   "execution_count": 36,
   "metadata": {},
   "outputs": [],
   "source": [
    "dx=dx.set_index('state')"
   ]
  },
  {
   "cell_type": "markdown",
   "metadata": {},
   "source": [
    "#### The state which has the worst development for 'Deaths among Patients with Serious Treatable Complications after Surgery'"
   ]
  },
  {
   "cell_type": "code",
   "execution_count": 37,
   "metadata": {},
   "outputs": [
    {
     "data": {
      "text/plain": [
       "state\n",
       "Utah   21.5465\n",
       "Name: Ratio, dtype: float64"
      ]
     },
     "execution_count": 37,
     "metadata": {},
     "output_type": "execute_result"
    }
   ],
   "source": [
    "dx['Ratio'].nlargest(1)"
   ]
  },
  {
   "cell_type": "markdown",
   "metadata": {},
   "source": [
    "**Utah** has the worst development for **'Deaths among Patients with Serious Treatable Complications after Surgery'** among the US states"
   ]
  }
 ],
 "metadata": {
  "kernelspec": {
   "display_name": "Python 3",
   "language": "python",
   "name": "python3"
  },
  "language_info": {
   "codemirror_mode": {
    "name": "ipython",
    "version": 3
   },
   "file_extension": ".py",
   "mimetype": "text/x-python",
   "name": "python",
   "nbconvert_exporter": "python",
   "pygments_lexer": "ipython3",
   "version": "3.6.4"
  },
  "toc": {
   "nav_menu": {},
   "number_sections": true,
   "sideBar": true,
   "skip_h1_title": false,
   "title_cell": "Table of Contents",
   "title_sidebar": "Contents",
   "toc_cell": false,
   "toc_position": {},
   "toc_section_display": true,
   "toc_window_display": false
  },
  "varInspector": {
   "cols": {
    "lenName": 16,
    "lenType": 16,
    "lenVar": 40
   },
   "kernels_config": {
    "python": {
     "delete_cmd_postfix": "",
     "delete_cmd_prefix": "del ",
     "library": "var_list.py",
     "varRefreshCmd": "print(var_dic_list())"
    },
    "r": {
     "delete_cmd_postfix": ") ",
     "delete_cmd_prefix": "rm(",
     "library": "var_list.r",
     "varRefreshCmd": "cat(var_dic_list()) "
    }
   },
   "types_to_exclude": [
    "module",
    "function",
    "builtin_function_or_method",
    "instance",
    "_Feature"
   ],
   "window_display": false
  }
 },
 "nbformat": 4,
 "nbformat_minor": 2
}
